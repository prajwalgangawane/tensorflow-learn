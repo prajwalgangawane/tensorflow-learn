{
 "cells": [
  {
   "cell_type": "code",
   "execution_count": 1,
   "metadata": {},
   "outputs": [
    {
     "name": "stdout",
     "output_type": "stream",
     "text": [
      "WARNING:tensorflow:From c:\\Users\\Prajwal\\Desktop\\test\\tflearn\\tf\\lib\\site-packages\\tensorflow\\python\\compat\\v2_compat.py:107: disable_resource_variables (from tensorflow.python.ops.variable_scope) is deprecated and will be removed in a future version.\n",
      "Instructions for updating:\n",
      "non-resource variables are not supported in the long term\n",
      "curses is not supported on this machine (please install/reinstall curses for an optimal experience)\n",
      "Scipy not supported!\n"
     ]
    }
   ],
   "source": [
    "import nltk\n",
    "from nltk.stem.lancaster import LancasterStemmer\n",
    "import json\n",
    "import random\n",
    "import numpy as np\n",
    "import tensorflow as tf\n",
    "import tflearn\n",
    "import pickle"
   ]
  },
  {
   "cell_type": "code",
   "execution_count": 2,
   "metadata": {},
   "outputs": [],
   "source": [
    "stremmer = LancasterStemmer()"
   ]
  },
  {
   "cell_type": "code",
   "execution_count": 3,
   "metadata": {},
   "outputs": [
    {
     "name": "stdout",
     "output_type": "stream",
     "text": [
      "[{'tag': 'greeting', 'patterns': ['Hi', 'How are you', 'Its anyone there?', 'Hello', 'Good day'], 'response': ['Hello!', 'Good to see you again', 'Hi there, how can i help you'], 'context_set': ''}, {'tag': 'goodbye', 'patterns': ['cya', 'see you later', 'talk you later', 'i am leaving', 'have a good day'], 'response': ['see you soon', 'have a nice day', 'bye', 'ok'], 'context_set': ''}]\n"
     ]
    }
   ],
   "source": [
    "with open(\"intents.json\") as file:\n",
    "    data = json.load(file)\n",
    "    print(data[\"intents\"])"
   ]
  },
  {
   "cell_type": "code",
   "execution_count": null,
   "metadata": {},
   "outputs": [],
   "source": [
    "# words = []\n",
    "# labels = []\n",
    "# docs_x = []\n",
    "# docs_y = []\n",
    "\n",
    "# for intent in data[\"intents\"]:\n",
    "#     for pattern in intent[\"patterns\"]:\n",
    "#         wrds =nltk.word_tokenize(pattern)\n",
    "#         words.extend(wrds)\n",
    "#         docs_x.append(wrds)\n",
    "#         docs_y.append(intent[\"tag\"])\n",
    "\n",
    "#     if intent[\"tag\"] not in labels:\n",
    "#         labels.append(intent[\"tag\"])\n",
    "\n",
    "# words =[stremmer.stem(w.lower()) for w in words if w  != \"?\"]\n",
    "# words = sorted(list(set(words)))\n",
    "# labels =sorted(labels)\n",
    "\n",
    "\n",
    "# training =[]\n",
    "# output= []\n",
    "# out_empty =[ 0 for _ in range(len(labels))] \n",
    "\n",
    "# for x, doc in enumerate(docs_x):\n",
    "#     bag = []\n",
    "    \n",
    "#     wrds =[stremmer.stem(w) for w in doc]\n",
    "\n",
    "#     for w in words:\n",
    "#         if w in wrds:\n",
    "#             bag.append(1)\n",
    "\n",
    "#         else:\n",
    "#             bag.append(0)\n",
    "\n",
    "#     output_row = out_empty[:]\n",
    "#     output_row[labels.index(docs_y[x])] = 1\n",
    "\n",
    "#     training.append(bag)\n",
    "#     output.append(output_row)\n",
    "\n",
    "# training = np.array(training)\n",
    "# output = np.array(output)      \n",
    "\n",
    "# with open(\"data.pickle\" ,\"wb\") as f:\n",
    "#     pickle.dump((words, labels, training, output),f)"
   ]
  },
  {
   "cell_type": "code",
   "execution_count": 4,
   "metadata": {},
   "outputs": [],
   "source": [
    "with open(\"data.pickle\" ,\"rb\") as f:\n",
    "        words, labels, training, output =pickle.load(f)    "
   ]
  },
  {
   "cell_type": "code",
   "execution_count": 5,
   "metadata": {},
   "outputs": [],
   "source": [
    "tf.compat.v1.reset_default_graph()"
   ]
  },
  {
   "cell_type": "code",
   "execution_count": 6,
   "metadata": {},
   "outputs": [
    {
     "name": "stdout",
     "output_type": "stream",
     "text": [
      "WARNING:tensorflow:From c:\\Users\\Prajwal\\Desktop\\test\\tflearn\\tf\\lib\\site-packages\\tflearn\\initializations.py:164: calling TruncatedNormal.__init__ (from tensorflow.python.ops.init_ops) with dtype is deprecated and will be removed in a future version.\n",
      "Instructions for updating:\n",
      "Call initializer instance with the dtype argument instead of passing it to the constructor\n"
     ]
    }
   ],
   "source": [
    "net = tflearn.input_data(shape =[None ,len(training[0])])\n",
    "net =tflearn.fully_connected(net ,8)\n",
    "net =tflearn.fully_connected(net ,8)\n",
    "net =tflearn.fully_connected(net ,8)\n",
    "net =tflearn.fully_connected(net ,len(output[0]), activation =\"softmax\" )\n",
    "net = tflearn.regression(net)\n",
    "\n",
    "model =tflearn.DNN(net)"
   ]
  },
  {
   "cell_type": "code",
   "execution_count": 8,
   "metadata": {},
   "outputs": [
    {
     "name": "stdout",
     "output_type": "stream",
     "text": [
      "INFO:tensorflow:Restoring parameters from c:\\Users\\Prajwal\\Desktop\\test\\tflearn\\test\\model.tflearn\n"
     ]
    }
   ],
   "source": [
    "model.load(\"model.tflearn\")"
   ]
  },
  {
   "cell_type": "code",
   "execution_count": 7,
   "metadata": {},
   "outputs": [
    {
     "name": "stdout",
     "output_type": "stream",
     "text": [
      "Training Step: 1999  | total loss: \u001b[1m\u001b[32m0.00290\u001b[0m\u001b[0m | time: 0.002s\n",
      "| Adam | epoch: 1000 | loss: 0.00290 - acc: 1.0000 -- iter: 08/10\n",
      "Training Step: 2000  | total loss: \u001b[1m\u001b[32m0.00286\u001b[0m\u001b[0m | time: 0.006s\n",
      "| Adam | epoch: 1000 | loss: 0.00286 - acc: 1.0000 -- iter: 10/10\n",
      "--\n",
      "INFO:tensorflow:c:\\Users\\Prajwal\\Desktop\\test\\tflearn\\test\\model.tflearn is not in all_model_checkpoint_paths. Manually adding it.\n",
      "INFO:tensorflow:c:\\Users\\Prajwal\\Desktop\\test\\tflearn\\test\\model.tflearn.data-00000-of-00001\n",
      "INFO:tensorflow:0\n",
      "INFO:tensorflow:c:\\Users\\Prajwal\\Desktop\\test\\tflearn\\test\\model.tflearn.index\n",
      "INFO:tensorflow:0\n",
      "INFO:tensorflow:c:\\Users\\Prajwal\\Desktop\\test\\tflearn\\test\\model.tflearn.meta\n",
      "INFO:tensorflow:100\n"
     ]
    }
   ],
   "source": [
    "model.fit(training, output ,n_epoch=1000 ,batch_size=8 ,show_metric=True)\n",
    "model.save(\"model.tflearn\")"
   ]
  },
  {
   "cell_type": "code",
   "execution_count": 35,
   "metadata": {},
   "outputs": [],
   "source": [
    "def bag_of_words(s, words):\n",
    "    bag = [ 0 for _ in range(len(words))]\n",
    "    s_words = nltk.word_tokenize(s)\n",
    "\n",
    "    s_words = [stremmer.stem(word.lower()) for word in s_words]\n",
    "\n",
    "\n",
    "\n",
    "    for se in s_words:\n",
    "        for i,w in enumerate(words):\n",
    "            if w ==se:\n",
    "                bag[i] = 1\n",
    "\n",
    "    return np.array(bag)"
   ]
  },
  {
   "cell_type": "code",
   "execution_count": 45,
   "metadata": {},
   "outputs": [],
   "source": [
    "def chat():\n",
    "    print(\"start chatting with boot( typre quit to stop)\")\n",
    "    while True:\n",
    "        inp = input(\"you:\")\n",
    "        if inp.lower() == \"quit\":\n",
    "            break\n",
    "        result = model.predict([bag_of_words(inp ,words)])[0]\n",
    "        result_index = np.argmax(result)\n",
    "        tag = labels[result_index]\n",
    "        \n",
    "        if result[result_index] > 0.7:\n",
    "\n",
    "            for tg in data[\"intents\"]:\n",
    "                if tg[\"tag\"] == tag:\n",
    "                    responses = tg[\"response\"]\n",
    "\n",
    "            print(random.choice(responses)) \n",
    "\n",
    "        else:\n",
    "\n",
    "            print(\"i didnt get it\")   "
   ]
  },
  {
   "cell_type": "code",
   "execution_count": 46,
   "metadata": {},
   "outputs": [
    {
     "name": "stdout",
     "output_type": "stream",
     "text": [
      "start chatting with boot( typre quit to stop)\n",
      "1\n",
      "['Hi']\n",
      "2\n",
      "['hi']\n",
      "{'tag': 'greeting', 'patterns': ['Hi', 'How are you', 'Its anyone there?', 'Hello', 'Good day'], 'response': ['Hello!', 'Good to see you again', 'Hi there, how can i help you'], 'context_set': ''}\n",
      "{'tag': 'goodbye', 'patterns': ['cya', 'see you later', 'talk you later', 'i am leaving', 'have a good day'], 'response': ['see you soon', 'have a nice day', 'bye', 'ok'], 'context_set': ''}\n",
      "Good to see you again\n",
      "1\n",
      "[]\n",
      "2\n",
      "[]\n",
      "{'tag': 'greeting', 'patterns': ['Hi', 'How are you', 'Its anyone there?', 'Hello', 'Good day'], 'response': ['Hello!', 'Good to see you again', 'Hi there, how can i help you'], 'context_set': ''}\n",
      "{'tag': 'goodbye', 'patterns': ['cya', 'see you later', 'talk you later', 'i am leaving', 'have a good day'], 'response': ['see you soon', 'have a nice day', 'bye', 'ok'], 'context_set': ''}\n",
      "Hello!\n",
      "1\n",
      "['bye']\n",
      "2\n",
      "['bye']\n",
      "{'tag': 'greeting', 'patterns': ['Hi', 'How are you', 'Its anyone there?', 'Hello', 'Good day'], 'response': ['Hello!', 'Good to see you again', 'Hi there, how can i help you'], 'context_set': ''}\n",
      "{'tag': 'goodbye', 'patterns': ['cya', 'see you later', 'talk you later', 'i am leaving', 'have a good day'], 'response': ['see you soon', 'have a nice day', 'bye', 'ok'], 'context_set': ''}\n",
      "Good to see you again\n",
      "1\n",
      "[]\n",
      "2\n",
      "[]\n",
      "{'tag': 'greeting', 'patterns': ['Hi', 'How are you', 'Its anyone there?', 'Hello', 'Good day'], 'response': ['Hello!', 'Good to see you again', 'Hi there, how can i help you'], 'context_set': ''}\n",
      "{'tag': 'goodbye', 'patterns': ['cya', 'see you later', 'talk you later', 'i am leaving', 'have a good day'], 'response': ['see you soon', 'have a nice day', 'bye', 'ok'], 'context_set': ''}\n",
      "Hello!\n",
      "1\n",
      "[]\n",
      "2\n",
      "[]\n",
      "{'tag': 'greeting', 'patterns': ['Hi', 'How are you', 'Its anyone there?', 'Hello', 'Good day'], 'response': ['Hello!', 'Good to see you again', 'Hi there, how can i help you'], 'context_set': ''}\n",
      "{'tag': 'goodbye', 'patterns': ['cya', 'see you later', 'talk you later', 'i am leaving', 'have a good day'], 'response': ['see you soon', 'have a nice day', 'bye', 'ok'], 'context_set': ''}\n",
      "Hello!\n",
      "1\n",
      "[]\n",
      "2\n",
      "[]\n",
      "{'tag': 'greeting', 'patterns': ['Hi', 'How are you', 'Its anyone there?', 'Hello', 'Good day'], 'response': ['Hello!', 'Good to see you again', 'Hi there, how can i help you'], 'context_set': ''}\n",
      "{'tag': 'goodbye', 'patterns': ['cya', 'see you later', 'talk you later', 'i am leaving', 'have a good day'], 'response': ['see you soon', 'have a nice day', 'bye', 'ok'], 'context_set': ''}\n",
      "Good to see you again\n",
      "1\n",
      "[]\n",
      "2\n",
      "[]\n",
      "{'tag': 'greeting', 'patterns': ['Hi', 'How are you', 'Its anyone there?', 'Hello', 'Good day'], 'response': ['Hello!', 'Good to see you again', 'Hi there, how can i help you'], 'context_set': ''}\n",
      "{'tag': 'goodbye', 'patterns': ['cya', 'see you later', 'talk you later', 'i am leaving', 'have a good day'], 'response': ['see you soon', 'have a nice day', 'bye', 'ok'], 'context_set': ''}\n",
      "Hi there, how can i help you\n",
      "1\n",
      "[]\n",
      "2\n",
      "[]\n",
      "{'tag': 'greeting', 'patterns': ['Hi', 'How are you', 'Its anyone there?', 'Hello', 'Good day'], 'response': ['Hello!', 'Good to see you again', 'Hi there, how can i help you'], 'context_set': ''}\n",
      "{'tag': 'goodbye', 'patterns': ['cya', 'see you later', 'talk you later', 'i am leaving', 'have a good day'], 'response': ['see you soon', 'have a nice day', 'bye', 'ok'], 'context_set': ''}\n",
      "Hi there, how can i help you\n"
     ]
    }
   ],
   "source": [
    "chat()"
   ]
  },
  {
   "cell_type": "code",
   "execution_count": null,
   "metadata": {},
   "outputs": [],
   "source": [
    "a=[\"Hello\",\"PRAJ\"] \n",
    "hello = ([word.length for word in a])\n",
    "print(hello)"
   ]
  }
 ],
 "metadata": {
  "kernelspec": {
   "display_name": "Python 3.10.4 ('tf': venv)",
   "language": "python",
   "name": "python3"
  },
  "language_info": {
   "codemirror_mode": {
    "name": "ipython",
    "version": 3
   },
   "file_extension": ".py",
   "mimetype": "text/x-python",
   "name": "python",
   "nbconvert_exporter": "python",
   "pygments_lexer": "ipython3",
   "version": "3.10.4"
  },
  "orig_nbformat": 4,
  "vscode": {
   "interpreter": {
    "hash": "7e0e4a9ae6a83743c109993e3dc142276b0f071ff4ec39c0c0e4de4c9c6c8084"
   }
  }
 },
 "nbformat": 4,
 "nbformat_minor": 2
}
