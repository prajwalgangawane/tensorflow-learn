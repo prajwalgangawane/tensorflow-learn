{
 "cells": [
  {
   "cell_type": "code",
   "execution_count": 1,
   "metadata": {},
   "outputs": [
    {
     "name": "stdout",
     "output_type": "stream",
     "text": [
      "WARNING:tensorflow:From c:\\Users\\Prajwal\\Desktop\\test\\tflearn\\tf\\lib\\site-packages\\tensorflow\\python\\compat\\v2_compat.py:107: disable_resource_variables (from tensorflow.python.ops.variable_scope) is deprecated and will be removed in a future version.\n",
      "Instructions for updating:\n",
      "non-resource variables are not supported in the long term\n",
      "curses is not supported on this machine (please install/reinstall curses for an optimal experience)\n",
      "Scipy not supported!\n"
     ]
    }
   ],
   "source": [
    "import nltk\n",
    "from nltk.stem.lancaster import LancasterStemmer\n",
    "import json\n",
    "import random\n",
    "import numpy as np\n",
    "import tensorflow as tf\n",
    "import tflearn\n",
    "import pickle"
   ]
  },
  {
   "cell_type": "code",
   "execution_count": 2,
   "metadata": {},
   "outputs": [],
   "source": [
    "stremmer = LancasterStemmer()"
   ]
  },
  {
   "cell_type": "code",
   "execution_count": 3,
   "metadata": {},
   "outputs": [
    {
     "name": "stdout",
     "output_type": "stream",
     "text": [
      "[{'tag': 'greeting', 'patterns': ['Hi', 'How are you', 'Its anyone there?', 'Hello', 'Good day'], 'response': ['Hello!', 'Good to see you again', 'Hi there, how can i help you'], 'context_set': ''}, {'tag': 'goodbye', 'patterns': ['cya', 'see you later', 'talk you later', 'i am leaving', 'have a good day'], 'response': ['see you soon', 'have a nice day', 'bye', 'ok'], 'context_set': ''}]\n"
     ]
    }
   ],
   "source": [
    "with open(\"intents.json\") as file:\n",
    "    data = json.load(file)\n",
    "    print(data[\"intents\"])"
   ]
  },
  {
   "cell_type": "code",
   "execution_count": 4,
   "metadata": {},
   "outputs": [],
   "source": [
    "# words = []\n",
    "# labels = []\n",
    "# docs_x = []\n",
    "# docs_y = []\n",
    "\n",
    "# for intent in data[\"intents\"]:\n",
    "#     for pattern in intent[\"patterns\"]:\n",
    "#         wrds =nltk.word_tokenize(pattern)\n",
    "#         words.extend(wrds)\n",
    "#         docs_x.append(wrds)\n",
    "#         docs_y.append(intent[\"tag\"])\n",
    "\n",
    "#     if intent[\"tag\"] not in labels:\n",
    "#         labels.append(intent[\"tag\"])\n",
    "\n",
    "# words =[stremmer.stem(w.lower()) for w in words if w  != \"?\"]\n",
    "# words = sorted(list(set(words)))\n",
    "# labels =sorted(labels)\n",
    "\n",
    "\n",
    "# training =[]\n",
    "# output= []\n",
    "# out_empty =[ 0 for _ in range(len(labels))] \n",
    "\n",
    "# for x, doc in enumerate(docs_x):\n",
    "#     bag = []\n",
    "    \n",
    "#     wrds =[stremmer.stem(w) for w in doc]\n",
    "\n",
    "#     for w in words:\n",
    "#         if w in wrds:\n",
    "#             bag.append(1)\n",
    "\n",
    "#         else:\n",
    "#             bag.append(0)\n",
    "\n",
    "#     output_row = out_empty[:]\n",
    "#     output_row[labels.index(docs_y[x])] = 1\n",
    "\n",
    "#     training.append(bag)\n",
    "#     output.append(output_row)\n",
    "\n",
    "# training = np.array(training)\n",
    "# output = np.array(output)      \n",
    "\n",
    "# with open(\"data.pickle\" ,\"wb\") as f:\n",
    "#     pickle.dump((words, labels, training, output),f)"
   ]
  },
  {
   "cell_type": "code",
   "execution_count": 5,
   "metadata": {},
   "outputs": [],
   "source": [
    "with open(\"data.pickle\" ,\"rb\") as f:\n",
    "        words, labels, training, output =pickle.load(f)    "
   ]
  },
  {
   "cell_type": "code",
   "execution_count": 6,
   "metadata": {},
   "outputs": [],
   "source": [
    "tf.compat.v1.reset_default_graph()"
   ]
  },
  {
   "cell_type": "code",
   "execution_count": 7,
   "metadata": {},
   "outputs": [
    {
     "name": "stdout",
     "output_type": "stream",
     "text": [
      "WARNING:tensorflow:From c:\\Users\\Prajwal\\Desktop\\test\\tflearn\\tf\\lib\\site-packages\\tflearn\\initializations.py:164: calling TruncatedNormal.__init__ (from tensorflow.python.ops.init_ops) with dtype is deprecated and will be removed in a future version.\n",
      "Instructions for updating:\n",
      "Call initializer instance with the dtype argument instead of passing it to the constructor\n"
     ]
    }
   ],
   "source": [
    "net = tflearn.input_data(shape =[None ,len(training[0])])\n",
    "net =tflearn.fully_connected(net ,8)\n",
    "net =tflearn.fully_connected(net ,8)\n",
    "net =tflearn.fully_connected(net ,8)\n",
    "net =tflearn.fully_connected(net ,len(output[0]), activation =\"softmax\" )\n",
    "net = tflearn.regression(net)\n",
    "\n",
    "model =tflearn.DNN(net)"
   ]
  },
  {
   "cell_type": "code",
   "execution_count": null,
   "metadata": {},
   "outputs": [],
   "source": []
  },
  {
   "cell_type": "code",
   "execution_count": 9,
   "metadata": {},
   "outputs": [
    {
     "name": "stdout",
     "output_type": "stream",
     "text": [
      "INFO:tensorflow:Restoring parameters from c:\\Users\\Prajwal\\Desktop\\test\\tflearn\\test\\model.tflearn\n"
     ]
    }
   ],
   "source": [
    "model.load(\"model.tflearn\")"
   ]
  },
  {
   "cell_type": "code",
   "execution_count": 8,
   "metadata": {},
   "outputs": [
    {
     "name": "stdout",
     "output_type": "stream",
     "text": [
      "Training Step: 1999  | total loss: \u001b[1m\u001b[32m0.00615\u001b[0m\u001b[0m | time: 0.003s\n",
      "| Adam | epoch: 1000 | loss: 0.00615 - acc: 0.9999 -- iter: 08/10\n",
      "Training Step: 2000  | total loss: \u001b[1m\u001b[32m0.00620\u001b[0m\u001b[0m | time: 0.005s\n",
      "| Adam | epoch: 1000 | loss: 0.00620 - acc: 0.9999 -- iter: 10/10\n",
      "--\n",
      "INFO:tensorflow:c:\\Users\\Prajwal\\Desktop\\test\\tflearn\\test\\model.tflearn is not in all_model_checkpoint_paths. Manually adding it.\n",
      "INFO:tensorflow:c:\\Users\\Prajwal\\Desktop\\test\\tflearn\\test\\model.tflearn.data-00000-of-00001\n",
      "INFO:tensorflow:0\n",
      "INFO:tensorflow:c:\\Users\\Prajwal\\Desktop\\test\\tflearn\\test\\model.tflearn.index\n",
      "INFO:tensorflow:0\n",
      "INFO:tensorflow:c:\\Users\\Prajwal\\Desktop\\test\\tflearn\\test\\model.tflearn.meta\n",
      "INFO:tensorflow:100\n"
     ]
    }
   ],
   "source": [
    "model.fit(training, output ,n_epoch=1000 ,batch_size=8 ,show_metric=True)\n",
    "model.save(\"model.tflearn\")"
   ]
  },
  {
   "cell_type": "code",
   "execution_count": 13,
   "metadata": {},
   "outputs": [],
   "source": [
    "def bag_of_words(s, words):\n",
    "    bag = [ 0 for _ in range(len(words))]\n",
    "    s_words = nltk.word_tokenize(s) \n",
    "    print(\"1\")\n",
    "    print(s_words)\n",
    "    s_words = [stremmer.stem([word.lower() for word in s_words])]\n",
    "    print(\"2\")\n",
    "    print(s_words)\n",
    "\n",
    "\n",
    "    for se in s_words:\n",
    "        for i,w in enumerate(words):\n",
    "            if w ==se:\n",
    "                bag[i] = 1\n",
    "\n",
    "    return np.array(bag)"
   ]
  },
  {
   "cell_type": "code",
   "execution_count": 11,
   "metadata": {},
   "outputs": [],
   "source": [
    "def chat():\n",
    "    print(\"start chatting with boot( typre quit to stop)\")\n",
    "    while True:\n",
    "        inp = input(\"you:\")\n",
    "        if inp.lower() == \"quit\":\n",
    "            break\n",
    "        result = model.predict([bag_of_words(inp ,words)]) \n",
    "        result_index = np.argmax(result)\n",
    "        tag = labels[\"results_index\"]\n",
    "        print(result)\n",
    "\n",
    "        if result[result_index] > 0.7:\n",
    "\n",
    "            for tg in data[\"intents\"]:\n",
    "                if tg[\"tag\"] == tag:\n",
    "                    responses =tg[\"responses\"]\n",
    "\n",
    "            print(random.choice(responses)) \n",
    "\n",
    "        else:\n",
    "\n",
    "            print(\"i didnt get it\")   "
   ]
  },
  {
   "cell_type": "code",
   "execution_count": 12,
   "metadata": {},
   "outputs": [
    {
     "name": "stdout",
     "output_type": "stream",
     "text": [
      "start chatting with boot( typre quit to stop)\n",
      "1\n",
      "['Hi']\n"
     ]
    },
    {
     "ename": "AttributeError",
     "evalue": "'list' object has no attribute 'lower'",
     "output_type": "error",
     "traceback": [
      "\u001b[1;31m---------------------------------------------------------------------------\u001b[0m",
      "\u001b[1;31mAttributeError\u001b[0m                            Traceback (most recent call last)",
      "\u001b[1;32mc:\\Users\\Prajwal\\Desktop\\test\\tflearn\\test\\chatbot.ipynb Cell 13'\u001b[0m in \u001b[0;36m<cell line: 1>\u001b[1;34m()\u001b[0m\n\u001b[1;32m----> <a href='vscode-notebook-cell:/c%3A/Users/Prajwal/Desktop/test/tflearn/test/chatbot.ipynb#ch0000012?line=0'>1</a>\u001b[0m chat()\n",
      "\u001b[1;32mc:\\Users\\Prajwal\\Desktop\\test\\tflearn\\test\\chatbot.ipynb Cell 12'\u001b[0m in \u001b[0;36mchat\u001b[1;34m()\u001b[0m\n\u001b[0;32m      <a href='vscode-notebook-cell:/c%3A/Users/Prajwal/Desktop/test/tflearn/test/chatbot.ipynb#ch0000011?line=4'>5</a>\u001b[0m \u001b[39mif\u001b[39;00m inp\u001b[39m.\u001b[39mlower() \u001b[39m==\u001b[39m \u001b[39m\"\u001b[39m\u001b[39mquit\u001b[39m\u001b[39m\"\u001b[39m:\n\u001b[0;32m      <a href='vscode-notebook-cell:/c%3A/Users/Prajwal/Desktop/test/tflearn/test/chatbot.ipynb#ch0000011?line=5'>6</a>\u001b[0m     \u001b[39mbreak\u001b[39;00m\n\u001b[1;32m----> <a href='vscode-notebook-cell:/c%3A/Users/Prajwal/Desktop/test/tflearn/test/chatbot.ipynb#ch0000011?line=7'>8</a>\u001b[0m result \u001b[39m=\u001b[39mmodel\u001b[39m.\u001b[39mpredict([bag_of_words(inp ,words)]) \n\u001b[0;32m      <a href='vscode-notebook-cell:/c%3A/Users/Prajwal/Desktop/test/tflearn/test/chatbot.ipynb#ch0000011?line=8'>9</a>\u001b[0m result_index \u001b[39m=\u001b[39m np\u001b[39m.\u001b[39margmax(result)\n\u001b[0;32m     <a href='vscode-notebook-cell:/c%3A/Users/Prajwal/Desktop/test/tflearn/test/chatbot.ipynb#ch0000011?line=9'>10</a>\u001b[0m tag \u001b[39m=\u001b[39m labels[\u001b[39m\"\u001b[39m\u001b[39mresults_index\u001b[39m\u001b[39m\"\u001b[39m]\n",
      "\u001b[1;32mc:\\Users\\Prajwal\\Desktop\\test\\tflearn\\test\\chatbot.ipynb Cell 11'\u001b[0m in \u001b[0;36mbag_of_words\u001b[1;34m(s, words)\u001b[0m\n\u001b[0;32m      <a href='vscode-notebook-cell:/c%3A/Users/Prajwal/Desktop/test/tflearn/test/chatbot.ipynb#ch0000010?line=3'>4</a>\u001b[0m \u001b[39mprint\u001b[39m(\u001b[39m\"\u001b[39m\u001b[39m1\u001b[39m\u001b[39m\"\u001b[39m)\n\u001b[0;32m      <a href='vscode-notebook-cell:/c%3A/Users/Prajwal/Desktop/test/tflearn/test/chatbot.ipynb#ch0000010?line=4'>5</a>\u001b[0m \u001b[39mprint\u001b[39m(s_words)\n\u001b[1;32m----> <a href='vscode-notebook-cell:/c%3A/Users/Prajwal/Desktop/test/tflearn/test/chatbot.ipynb#ch0000010?line=5'>6</a>\u001b[0m s_words \u001b[39m=\u001b[39m [stremmer\u001b[39m.\u001b[39;49mstem([word\u001b[39m.\u001b[39;49mlower() \u001b[39mfor\u001b[39;49;00m word \u001b[39min\u001b[39;49;00m s_words])]\n\u001b[0;32m      <a href='vscode-notebook-cell:/c%3A/Users/Prajwal/Desktop/test/tflearn/test/chatbot.ipynb#ch0000010?line=6'>7</a>\u001b[0m \u001b[39mprint\u001b[39m(\u001b[39m\"\u001b[39m\u001b[39m2\u001b[39m\u001b[39m\"\u001b[39m)\n\u001b[0;32m      <a href='vscode-notebook-cell:/c%3A/Users/Prajwal/Desktop/test/tflearn/test/chatbot.ipynb#ch0000010?line=7'>8</a>\u001b[0m \u001b[39mprint\u001b[39m(s_words)\n",
      "File \u001b[1;32mc:\\Users\\Prajwal\\Desktop\\test\\tflearn\\tf\\lib\\site-packages\\nltk\\stem\\lancaster.py:207\u001b[0m, in \u001b[0;36mLancasterStemmer.stem\u001b[1;34m(self, word)\u001b[0m\n\u001b[0;32m    205\u001b[0m \u001b[39m\"\"\"Stem a word using the Lancaster stemmer.\"\"\"\u001b[39;00m\n\u001b[0;32m    206\u001b[0m \u001b[39m# Lower-case the word, since all the rules are lower-cased\u001b[39;00m\n\u001b[1;32m--> 207\u001b[0m word \u001b[39m=\u001b[39m word\u001b[39m.\u001b[39;49mlower()\n\u001b[0;32m    208\u001b[0m word \u001b[39m=\u001b[39m \u001b[39mself\u001b[39m\u001b[39m.\u001b[39m__stripPrefix(word) \u001b[39mif\u001b[39;00m \u001b[39mself\u001b[39m\u001b[39m.\u001b[39m_strip_prefix \u001b[39melse\u001b[39;00m word\n\u001b[0;32m    210\u001b[0m \u001b[39m# Save a copy of the original word\u001b[39;00m\n",
      "\u001b[1;31mAttributeError\u001b[0m: 'list' object has no attribute 'lower'"
     ]
    }
   ],
   "source": [
    "chat()"
   ]
  },
  {
   "cell_type": "code",
   "execution_count": 17,
   "metadata": {},
   "outputs": [
    {
     "ename": "AttributeError",
     "evalue": "'str' object has no attribute 'length'",
     "output_type": "error",
     "traceback": [
      "\u001b[1;31m---------------------------------------------------------------------------\u001b[0m",
      "\u001b[1;31mAttributeError\u001b[0m                            Traceback (most recent call last)",
      "\u001b[1;32mc:\\Users\\Prajwal\\Desktop\\test\\tflearn\\test\\chatbot.ipynb Cell 14'\u001b[0m in \u001b[0;36m<cell line: 2>\u001b[1;34m()\u001b[0m\n\u001b[0;32m      <a href='vscode-notebook-cell:/c%3A/Users/Prajwal/Desktop/test/tflearn/test/chatbot.ipynb#ch0000017?line=0'>1</a>\u001b[0m a\u001b[39m=\u001b[39m[\u001b[39m\"\u001b[39m\u001b[39mHello\u001b[39m\u001b[39m\"\u001b[39m,\u001b[39m\"\u001b[39m\u001b[39mPRAJ\u001b[39m\u001b[39m\"\u001b[39m] \n\u001b[1;32m----> <a href='vscode-notebook-cell:/c%3A/Users/Prajwal/Desktop/test/tflearn/test/chatbot.ipynb#ch0000017?line=1'>2</a>\u001b[0m hello \u001b[39m=\u001b[39m ([word\u001b[39m.\u001b[39mlength \u001b[39mfor\u001b[39;00m word \u001b[39min\u001b[39;00m a])\n\u001b[0;32m      <a href='vscode-notebook-cell:/c%3A/Users/Prajwal/Desktop/test/tflearn/test/chatbot.ipynb#ch0000017?line=2'>3</a>\u001b[0m \u001b[39mprint\u001b[39m(hello)\n",
      "\u001b[1;32mc:\\Users\\Prajwal\\Desktop\\test\\tflearn\\test\\chatbot.ipynb Cell 14'\u001b[0m in \u001b[0;36m<listcomp>\u001b[1;34m(.0)\u001b[0m\n\u001b[0;32m      <a href='vscode-notebook-cell:/c%3A/Users/Prajwal/Desktop/test/tflearn/test/chatbot.ipynb#ch0000017?line=0'>1</a>\u001b[0m a\u001b[39m=\u001b[39m[\u001b[39m\"\u001b[39m\u001b[39mHello\u001b[39m\u001b[39m\"\u001b[39m,\u001b[39m\"\u001b[39m\u001b[39mPRAJ\u001b[39m\u001b[39m\"\u001b[39m] \n\u001b[1;32m----> <a href='vscode-notebook-cell:/c%3A/Users/Prajwal/Desktop/test/tflearn/test/chatbot.ipynb#ch0000017?line=1'>2</a>\u001b[0m hello \u001b[39m=\u001b[39m ([word\u001b[39m.\u001b[39;49mlength \u001b[39mfor\u001b[39;00m word \u001b[39min\u001b[39;00m a])\n\u001b[0;32m      <a href='vscode-notebook-cell:/c%3A/Users/Prajwal/Desktop/test/tflearn/test/chatbot.ipynb#ch0000017?line=2'>3</a>\u001b[0m \u001b[39mprint\u001b[39m(hello)\n",
      "\u001b[1;31mAttributeError\u001b[0m: 'str' object has no attribute 'length'"
     ]
    }
   ],
   "source": [
    "a=[\"Hello\",\"PRAJ\"] \n",
    "hello = ([word.length for word in a])\n",
    "print(hello)"
   ]
  }
 ],
 "metadata": {
  "kernelspec": {
   "display_name": "Python 3.10.4 ('tf': venv)",
   "language": "python",
   "name": "python3"
  },
  "language_info": {
   "codemirror_mode": {
    "name": "ipython",
    "version": 3
   },
   "file_extension": ".py",
   "mimetype": "text/x-python",
   "name": "python",
   "nbconvert_exporter": "python",
   "pygments_lexer": "ipython3",
   "version": "3.10.4"
  },
  "orig_nbformat": 4,
  "vscode": {
   "interpreter": {
    "hash": "7e0e4a9ae6a83743c109993e3dc142276b0f071ff4ec39c0c0e4de4c9c6c8084"
   }
  }
 },
 "nbformat": 4,
 "nbformat_minor": 2
}
